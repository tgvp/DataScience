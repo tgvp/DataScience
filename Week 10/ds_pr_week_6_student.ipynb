{
 "cells": [
  {
   "cell_type": "markdown",
   "metadata": {
    "id": "CX15zgJ15lF5"
   },
   "source": [
    "# Practical Lab: Week 6\n",
    "\n",
    "Note: This practical session is based on the exercises in chapter 4, section 4.7.2 and Applied 13."
   ]
  },
  {
   "cell_type": "markdown",
   "metadata": {
    "id": "sGVbeJXtwLIV"
   },
   "source": [
    "First, let's install the packages that we will use in this lab\n",
    "\n",
    "For these exercises we use the numpy library in version 1.22, which is compatible with the ISLP library."
   ]
  },
  {
   "cell_type": "code",
   "execution_count": null,
   "metadata": {
    "id": "74hvBUhF7-Kx"
   },
   "outputs": [],
   "source": [
    "#!pip install --force-reinstall -v \"numpy==1.22\"\n",
    "!pip install ISLP"
   ]
  },
  {
   "cell_type": "markdown",
   "metadata": {
    "id": "-EhxU63MC95Q"
   },
   "source": [
    "If you are working with Google Colab, after running this cell, restart the terminal."
   ]
  },
  {
   "cell_type": "code",
   "execution_count": null,
   "metadata": {
    "id": "mQBhh_sC8uqs"
   },
   "outputs": [],
   "source": [
    "import numpy as np\n",
    "import pandas as pd\n",
    "import statsmodels.formula.api as smf\n",
    "from ISLP import load_data\n",
    "from ISLP import confusion_table"
   ]
  },
  {
   "cell_type": "markdown",
   "metadata": {
    "id": "j8yndj0nMwsa"
   },
   "source": [
    "## Part 1"
   ]
  },
  {
   "cell_type": "markdown",
   "metadata": {
    "id": "Q6Qs_7umDbC2"
   },
   "source": [
    "In this part of the lab we will work with the Smarket dataframe. (https://islp.readthedocs.io/en/latest/datasets/Smarket.html)"
   ]
  },
  {
   "cell_type": "code",
   "execution_count": null,
   "metadata": {
    "colab": {
     "base_uri": "https://localhost:8080/"
    },
    "id": "0tJuktwb88x2",
    "outputId": "74972370-1b7f-4a5e-eaed-a0b29ae1b9ac"
   },
   "outputs": [
    {
     "name": "stdout",
     "output_type": "stream",
     "text": [
      "<class 'pandas.core.frame.DataFrame'>\n",
      "RangeIndex: 1250 entries, 0 to 1249\n",
      "Data columns (total 9 columns):\n",
      " #   Column     Non-Null Count  Dtype  \n",
      "---  ------     --------------  -----  \n",
      " 0   Year       1250 non-null   int64  \n",
      " 1   Lag1       1250 non-null   float64\n",
      " 2   Lag2       1250 non-null   float64\n",
      " 3   Lag3       1250 non-null   float64\n",
      " 4   Lag4       1250 non-null   float64\n",
      " 5   Lag5       1250 non-null   float64\n",
      " 6   Volume     1250 non-null   float64\n",
      " 7   Today      1250 non-null   float64\n",
      " 8   Direction  1250 non-null   object \n",
      "dtypes: float64(7), int64(1), object(1)\n",
      "memory usage: 88.0+ KB\n"
     ]
    }
   ],
   "source": [
    "Smarket = load_data('Smarket')\n",
    "Smarket.info()"
   ]
  },
  {
   "cell_type": "markdown",
   "metadata": {
    "id": "CRS8rDD_-pDi"
   },
   "source": [
    "1 - Compute the correlation matrix using the `corr()` method for data `Smarket`. Which pair of variables have substantial correlation? Why `direction` not appear?"
   ]
  },
  {
   "cell_type": "code",
   "execution_count": null,
   "metadata": {
    "id": "OxxbFLhb9DCf"
   },
   "outputs": [],
   "source": []
  },
  {
   "cell_type": "markdown",
   "metadata": {
    "id": "tH_gSuw1Byan"
   },
   "source": [
    "2 - Fit a logistic regression model in order to predict Direction using Lag1 through Lag5 and Volume."
   ]
  },
  {
   "cell_type": "code",
   "execution_count": null,
   "metadata": {
    "id": "BPNipbPcE-Oc"
   },
   "outputs": [],
   "source": []
  },
  {
   "cell_type": "markdown",
   "metadata": {
    "id": "DaM9eoe0IIhx"
   },
   "source": [
    "3 - Use the `pvalues` attribute to access the p-values for the coefficients (not shown)."
   ]
  },
  {
   "cell_type": "code",
   "execution_count": null,
   "metadata": {
    "id": "NAC7qg3AIGSh"
   },
   "outputs": [],
   "source": []
  },
  {
   "cell_type": "markdown",
   "metadata": {
    "id": "_JnZgv-dJUwC"
   },
   "source": [
    "4 - Use `predict()` method to predict the probability that the market will go up, given values of the predictors."
   ]
  },
  {
   "cell_type": "code",
   "execution_count": null,
   "metadata": {
    "id": "MXOFbh0XHOqm"
   },
   "outputs": [],
   "source": []
  },
  {
   "cell_type": "markdown",
   "metadata": {
    "id": "KmbObnATJsaY"
   },
   "source": [
    "5 - Create a array with \"Up\" and \"Down\" for all probabilities calculated before. Consider  prob > 0.5 \"Up\""
   ]
  },
  {
   "cell_type": "code",
   "execution_count": null,
   "metadata": {
    "id": "yxmMxRaoJlN4"
   },
   "outputs": [],
   "source": []
  },
  {
   "cell_type": "markdown",
   "metadata": {
    "id": "oscyOPmDKdTC"
   },
   "source": [
    "6 - The `confusion_table()` function from the ISLP package summarizes these predictions, showing how many observations were correctly or incorrectly classified. Compare using `confusion_table` the labels of predictions and the column Direction from dataset. The diagonal elements of the confusion matrix indicate correct predictions, while the off-diagonals represent incorrect predictions."
   ]
  },
  {
   "cell_type": "code",
   "execution_count": null,
   "metadata": {
    "id": "YwRlBkOFLC1m"
   },
   "outputs": [],
   "source": []
  },
  {
   "cell_type": "markdown",
   "metadata": {
    "id": "VWiaIoe7MzSQ"
   },
   "source": [
    "## Part 2"
   ]
  },
  {
   "cell_type": "markdown",
   "metadata": {
    "id": "tDrTfPM8M_-H"
   },
   "source": [
    "This part of lab should be answered using the Weekly data set, which is part of the ISLP package. This data is similar in nature to the Smarket data from previous lab, except that it contains 1,089 weekly returns for 21 years, from the beginning of 1990 to the end of 2010.\n",
    "(https://islp.readthedocs.io/en/latest/datasets/Weekly.html)"
   ]
  },
  {
   "cell_type": "code",
   "execution_count": null,
   "metadata": {
    "colab": {
     "base_uri": "https://localhost:8080/"
    },
    "id": "vZoX8q3wM1-R",
    "outputId": "4614bfce-05f4-416c-f487-aa57075712f8"
   },
   "outputs": [
    {
     "name": "stdout",
     "output_type": "stream",
     "text": [
      "<class 'pandas.core.frame.DataFrame'>\n",
      "RangeIndex: 1089 entries, 0 to 1088\n",
      "Data columns (total 9 columns):\n",
      " #   Column     Non-Null Count  Dtype  \n",
      "---  ------     --------------  -----  \n",
      " 0   Year       1089 non-null   int64  \n",
      " 1   Lag1       1089 non-null   float64\n",
      " 2   Lag2       1089 non-null   float64\n",
      " 3   Lag3       1089 non-null   float64\n",
      " 4   Lag4       1089 non-null   float64\n",
      " 5   Lag5       1089 non-null   float64\n",
      " 6   Volume     1089 non-null   float64\n",
      " 7   Today      1089 non-null   float64\n",
      " 8   Direction  1089 non-null   object \n",
      "dtypes: float64(7), int64(1), object(1)\n",
      "memory usage: 76.7+ KB\n"
     ]
    }
   ],
   "source": [
    "Weekly = load_data('Weekly')\n",
    "Weekly.info()"
   ]
  },
  {
   "cell_type": "markdown",
   "metadata": {
    "id": "65rldxcINLct"
   },
   "source": [
    "1 - Produce some numerical and graphical summaries of the Weekly data. Do there appear to be any patterns?"
   ]
  },
  {
   "cell_type": "code",
   "execution_count": null,
   "metadata": {
    "id": "zDBOi7LFNFjJ"
   },
   "outputs": [],
   "source": []
  },
  {
   "cell_type": "markdown",
   "metadata": {
    "id": "rpsWCOnSN9sm"
   },
   "source": [
    "2 - Use the full data set to perform a logistic regression with `Direction` as the response and the five lag variables plus Volume as predictors. Use the summary function to print the results. Do any of the predictors appear to be statistically significant? If so, which ones?"
   ]
  },
  {
   "cell_type": "code",
   "execution_count": null,
   "metadata": {
    "id": "W21xFjp0OS30"
   },
   "outputs": [],
   "source": []
  },
  {
   "cell_type": "markdown",
   "metadata": {
    "id": "lchEkQrgOoxN"
   },
   "source": [
    "3 - Compute the confusion matrix and overall fraction of correct predictions. Explain what the confusion matrix is telling you about the types of mistakes made by logistic regression."
   ]
  },
  {
   "cell_type": "code",
   "execution_count": null,
   "metadata": {
    "id": "FeeMKP86Oq0I"
   },
   "outputs": [],
   "source": []
  },
  {
   "cell_type": "markdown",
   "metadata": {
    "id": "hve8f_ahPsQp"
   },
   "source": [
    "4 - Now fit the logistic regression model using a training data period from 1990 to 2008, with Lag2 as the only predictor. Compute the confusion matrix and the overall fraction of correct predictions for the held out data (that is, the data from 2009 and 2010)."
   ]
  },
  {
   "cell_type": "code",
   "execution_count": null,
   "metadata": {
    "id": "DBZhF-QsPLpW"
   },
   "outputs": [],
   "source": []
  }
 ],
 "metadata": {
  "colab": {
   "collapsed_sections": [
    "j8yndj0nMwsa"
   ],
   "provenance": []
  },
  "kernelspec": {
   "display_name": "nvim-python",
   "language": "python",
   "name": "python3"
  },
  "language_info": {
   "codemirror_mode": {
    "name": "ipython",
    "version": 3
   },
   "file_extension": ".py",
   "mimetype": "text/x-python",
   "name": "python",
   "nbconvert_exporter": "python",
   "pygments_lexer": "ipython3",
   "version": "3.12.3"
  }
 },
 "nbformat": 4,
 "nbformat_minor": 0
}
